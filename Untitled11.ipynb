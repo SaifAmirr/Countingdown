{
 "cells": [
  {
   "cell_type": "code",
   "execution_count": null,
   "id": "b0dfe0f6",
   "metadata": {},
   "outputs": [
    {
     "name": "stdout",
     "output_type": "stream",
     "text": [
      ">>99\n",
      "00:01:22\r"
     ]
    }
   ],
   "source": [
    "#Countingdown.py\n",
    "#Program to do a counting down timer \n",
    "import time \n",
    "while True:\n",
    "    uin=input(\">>\")\n",
    "    try:\n",
    "       when_to_stop = abs(int(uin)) \n",
    "    except KeyboardInterrupt:\n",
    "        break \n",
    "    except:\n",
    "        print(\"Not a number\")\n",
    "#An always true while loop to ensure the user inputs a proper number \n",
    "    while when_to_stop > 0:\n",
    "        m, s = divmod(when_to_stop, 60)\n",
    "        h, m = divmod(m, 60)\n",
    "        time_left = str(h).zfill(2) + \":\" + str(m).zfill(2) + \":\" + str(s).zfill(2)\n",
    "        print(time_left + \"\\r\", end=\"\")\n",
    "        time.sleep(1)\n",
    "        when_to_stop = when_to_stop - 1\n",
    "print()    \n",
    "    \n",
    "    \n",
    "    \n",
    "    "
   ]
  },
  {
   "cell_type": "code",
   "execution_count": null,
   "id": "8882f946",
   "metadata": {},
   "outputs": [],
   "source": []
  },
  {
   "cell_type": "code",
   "execution_count": null,
   "id": "0deb73b7",
   "metadata": {},
   "outputs": [],
   "source": []
  }
 ],
 "metadata": {
  "kernelspec": {
   "display_name": "Python 3 (ipykernel)",
   "language": "python",
   "name": "python3"
  },
  "language_info": {
   "codemirror_mode": {
    "name": "ipython",
    "version": 3
   },
   "file_extension": ".py",
   "mimetype": "text/x-python",
   "name": "python",
   "nbconvert_exporter": "python",
   "pygments_lexer": "ipython3",
   "version": "3.9.7"
  }
 },
 "nbformat": 4,
 "nbformat_minor": 5
}
